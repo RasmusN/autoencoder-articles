{
 "cells": [
  {
   "cell_type": "code",
   "execution_count": 36,
   "id": "adc4b923-b635-487a-a086-11f1e0c22bac",
   "metadata": {},
   "outputs": [
    {
     "name": "stdout",
     "output_type": "stream",
     "text": [
      "Device: cuda\n"
     ]
    }
   ],
   "source": [
    "# Try to use the GPU if possible\n",
    "import torch\n",
    "device = torch.device(\"cuda\" if torch.cuda.is_available() else \"cpu\")\n",
    "print(f\"Device: {device}\")"
   ]
  },
  {
   "cell_type": "code",
   "execution_count": 37,
   "id": "f9b7e7ce-96dd-4f0e-9c08-b8878a89d110",
   "metadata": {},
   "outputs": [],
   "source": [
    "import numpy as np\n",
    "from torchvision import datasets\n",
    "import torchvision.transforms as transforms\n",
    "\n",
    "# convert data to torch.FloatTensor\n",
    "transform = transforms.ToTensor()\n",
    "\n",
    "# load the training and test datasets\n",
    "train_data = datasets.MNIST(root='data', train=True, download=True, transform=transform)\n",
    "test_data = datasets.MNIST(root='data', train=False, download=True, transform=transform)"
   ]
  },
  {
   "cell_type": "code",
   "execution_count": 38,
   "id": "ee667b0e-d6a4-4867-8b8a-689602f7ef55",
   "metadata": {},
   "outputs": [],
   "source": [
    "import torch\n",
    "import torch.nn as nn\n",
    "\n",
    "lat_v_size = 64\n",
    "img_size = 28 * 28\n",
    "\n",
    "class Encoder(nn.Module):\n",
    "    def __init__(self):\n",
    "        super().__init__()\n",
    "        self.l1 = nn.Linear(img_size, lat_v_size)\n",
    "        \n",
    "    def forward(self, x):\n",
    "        x = self.l1(x)\n",
    "        return x\n",
    "\n",
    "class Decoder(nn.Module):\n",
    "    def __init__(self):\n",
    "        super().__init__()\n",
    "        self.l1 = nn.Linear(lat_v_size, img_size)\n",
    "        \n",
    "    def forward(self, x):\n",
    "        x = self.l1(x)\n",
    "        return x\n",
    "        \n",
    "encoder = Encoder().to(device)\n",
    "decoder = Decoder().to(device)"
   ]
  },
  {
   "cell_type": "code",
   "execution_count": 39,
   "id": "598ce7fa-bc54-4d22-a918-5826005f2f23",
   "metadata": {},
   "outputs": [],
   "source": [
    "params_to_optimize = [\n",
    "    {'params': encoder.parameters()},\n",
    "    {'params': decoder.parameters()}\n",
    "]\n",
    "opt = torch.optim.Adam(params_to_optimize, lr=1e-3)"
   ]
  },
  {
   "cell_type": "code",
   "execution_count": 40,
   "id": "91efcb15-d8f5-4157-9151-098e328cc119",
   "metadata": {},
   "outputs": [],
   "source": [
    "batch_size = 64\n",
    "test_loader = torch.utils.data.DataLoader(train_data, batch_size=batch_size)\n",
    "def test_model(encoder, decoder, loss_fn):\n",
    "    original_states = encoder.training, decoder.training\n",
    "    encoder.eval(), decoder.eval()\n",
    "    total_loss = 0.0\n",
    "    with torch.no_grad():\n",
    "        for batch, _ in test_loader:\n",
    "            batch = batch.reshape((-1, 1, 28*28)).to(device)\n",
    "            lat_v = encoder(batch)\n",
    "            out = decoder(lat_v)\n",
    "            total_loss += loss_fn(out, batch).item()\n",
    "    encoder.train(original_states[0])\n",
    "    decoder.train(original_states[1])\n",
    "    return total_loss / len(test_loader)"
   ]
  },
  {
   "cell_type": "code",
   "execution_count": 41,
   "id": "8df2d89a-ffd6-4040-b805-1207463d3c3a",
   "metadata": {},
   "outputs": [
    {
     "name": "stdout",
     "output_type": "stream",
     "text": [
      "Starting epoch 0\n"
     ]
    },
    {
     "name": "stderr",
     "output_type": "stream",
     "text": [
      "100%|██████████| 938/938 [01:40<00:00,  9.35it/s]\n"
     ]
    },
    {
     "name": "stdout",
     "output_type": "stream",
     "text": [
      "Starting epoch 1\n"
     ]
    },
    {
     "name": "stderr",
     "output_type": "stream",
     "text": [
      "100%|██████████| 938/938 [01:30<00:00, 10.37it/s]\n"
     ]
    },
    {
     "name": "stdout",
     "output_type": "stream",
     "text": [
      "Starting epoch 2\n"
     ]
    },
    {
     "name": "stderr",
     "output_type": "stream",
     "text": [
      "100%|██████████| 938/938 [01:40<00:00,  9.34it/s]\n"
     ]
    },
    {
     "name": "stdout",
     "output_type": "stream",
     "text": [
      "Starting epoch 3\n"
     ]
    },
    {
     "name": "stderr",
     "output_type": "stream",
     "text": [
      "100%|██████████| 938/938 [01:31<00:00, 10.28it/s]\n"
     ]
    },
    {
     "name": "stdout",
     "output_type": "stream",
     "text": [
      "Starting epoch 4\n"
     ]
    },
    {
     "name": "stderr",
     "output_type": "stream",
     "text": [
      "100%|██████████| 938/938 [01:32<00:00, 10.17it/s]\n"
     ]
    },
    {
     "data": {
      "text/plain": [
       "Decoder(\n",
       "  (l1): Linear(in_features=64, out_features=784, bias=True)\n",
       ")"
      ]
     },
     "execution_count": 41,
     "metadata": {},
     "output_type": "execute_result"
    }
   ],
   "source": [
    "from tqdm import tqdm\n",
    "\n",
    "epochs = 5\n",
    "loss_fn = torch.nn.MSELoss()\n",
    "train_loader = torch.utils.data.DataLoader(train_data, batch_size=batch_size)\n",
    "train_losses = []\n",
    "test_losses = [test_model(encoder, decoder, loss_fn)]\n",
    "log_interv = 100\n",
    "encoder.train()\n",
    "decoder.train()\n",
    "for epoch in range(epochs):\n",
    "    print(f\"Starting epoch {epoch}\")\n",
    "    for i, (batch, _) in enumerate(tqdm(train_loader)):\n",
    "        batch = batch.reshape((-1, 1, 28*28)).to(device)\n",
    "        lat_v = encoder(batch)\n",
    "        out = decoder(lat_v)\n",
    "        loss = loss_fn(out, batch)\n",
    "        opt.zero_grad()\n",
    "        loss.backward()\n",
    "        opt.step()\n",
    "        train_losses.append(loss.cpu().detach().numpy())\n",
    "        if len(train_losses) % log_interv == 0:\n",
    "            test_losses.append(test_model(encoder, decoder, loss_fn))\n",
    "test_losses.append(test_model(encoder, decoder, loss_fn))\n",
    "encoder.eval()\n",
    "decoder.eval()\n",
    "\n"
   ]
  },
  {
   "cell_type": "code",
   "execution_count": 42,
   "id": "55ab72cc-6b77-432f-9e87-cacc49d5237a",
   "metadata": {},
   "outputs": [
    {
     "data": {
      "image/png": "[encoded data removed]",
      "text/plain": [
       "<Figure size 700x400 with 1 Axes>"
      ]
     },
     "metadata": {},
     "output_type": "display_data"
    }
   ],
   "source": [
    "import matplotlib.pyplot as plt\n",
    "\n",
    "test_steps = [i * log_interv for i in range(len(test_losses))]\n",
    "\n",
    "plt.figure(figsize=(7, 4))\n",
    "plt.plot(range(len(train_losses)), train_losses, label='Training Loss', alpha=0.8)\n",
    "plt.plot(test_steps, test_losses, linestyle='-', color='red', label='Test Loss', alpha=0.8)\n",
    "\n",
    "plt.xlabel('Step')\n",
    "plt.ylabel('Loss')\n",
    "plt.title('Loss Over Time')\n",
    "plt.legend()\n",
    "plt.show()"
   ]
  }
 ],
 "metadata": {
  "kernelspec": {
   "display_name": "Python Autoencoders venv",
   "language": "python",
   "name": "venv"
  },
  "language_info": {
   "codemirror_mode": {
    "name": "ipython",
    "version": 3
   },
   "file_extension": ".py",
   "mimetype": "text/x-python",
   "name": "python",
   "nbconvert_exporter": "python",
   "pygments_lexer": "ipython3",
   "version": "3.11.3"
  }
 },
 "nbformat": 4,
 "nbformat_minor": 5
}
