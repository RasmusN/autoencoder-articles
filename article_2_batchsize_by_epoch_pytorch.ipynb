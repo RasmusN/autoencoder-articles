{
 "cells": [
  {
   "cell_type": "code",
   "execution_count": 109,
   "id": "5f21f99a-0da2-451f-906a-59d9760c1227",
   "metadata": {},
   "outputs": [
    {
     "name": "stdout",
     "output_type": "stream",
     "text": [
      "Device: cuda\n"
     ]
    }
   ],
   "source": [
    "# Try to use the GPU if possible\n",
    "import torch\n",
    "device = torch.device(\"cuda\" if torch.cuda.is_available() else \"cpu\")\n",
    "print(f\"Device: {device}\")"
   ]
  },
  {
   "cell_type": "code",
   "execution_count": 110,
   "id": "f9b7e7ce-96dd-4f0e-9c08-b8878a89d110",
   "metadata": {},
   "outputs": [],
   "source": [
    "import torch\n",
    "import numpy as np\n",
    "from torchvision import datasets\n",
    "import torchvision.transforms as transforms\n",
    "\n",
    "transform = transforms.ToTensor()\n",
    "train_data = datasets.MNIST(root='data', train=True, download=True, transform=transform)\n",
    "test_data = datasets.MNIST(root='data', train=False, download=True, transform=transform)"
   ]
  },
  {
   "cell_type": "code",
   "execution_count": 111,
   "id": "ee667b0e-d6a4-4867-8b8a-689602f7ef55",
   "metadata": {},
   "outputs": [],
   "source": [
    "import torch\n",
    "import torch.nn as nn\n",
    "\n",
    "lat_v_size = 64\n",
    "img_size = 28 * 28\n",
    "\n",
    "class Encoder(nn.Module):\n",
    "    def __init__(self):\n",
    "        super().__init__()\n",
    "        self.l1 = nn.Linear(img_size, lat_v_size)\n",
    "        \n",
    "    def forward(self, x):\n",
    "        x = self.l1(x)\n",
    "        return x\n",
    "\n",
    "class Decoder(nn.Module):\n",
    "    def __init__(self):\n",
    "        super().__init__()\n",
    "        self.l1 = nn.Linear(lat_v_size, img_size)\n",
    "        \n",
    "    def forward(self, x):\n",
    "        x = self.l1(x)\n",
    "        return x"
   ]
  },
  {
   "cell_type": "code",
   "execution_count": 112,
   "id": "91efcb15-d8f5-4157-9151-098e328cc119",
   "metadata": {},
   "outputs": [],
   "source": [
    "def test_model(encoder, decoder, loss_fn, data_loader):\n",
    "    original_states = encoder.training, decoder.training\n",
    "    encoder.eval(), decoder.eval()\n",
    "    total_loss = 0.0\n",
    "    with torch.no_grad():\n",
    "        for batch, _ in data_loader:\n",
    "            batch = batch.to(device).reshape((-1, 1, 28*28))\n",
    "            lat_v = encoder(batch)\n",
    "            out = decoder(lat_v)\n",
    "            total_loss += loss_fn(out, batch).item()\n",
    "    encoder.train(original_states[0])\n",
    "    decoder.train(original_states[1])\n",
    "    return total_loss / len(test_loader)"
   ]
  },
  {
   "cell_type": "code",
   "execution_count": 113,
   "id": "8df2d89a-ffd6-4040-b805-1207463d3c3a",
   "metadata": {
    "scrolled": true
   },
   "outputs": [
    {
     "name": "stdout",
     "output_type": "stream",
     "text": [
      "Batch size: 8 epoch: 0\n"
     ]
    },
    {
     "name": "stderr",
     "output_type": "stream",
     "text": [
      "100%|██████████| 7500/7500 [03:16<00:00, 38.09it/s]\n"
     ]
    },
    {
     "name": "stdout",
     "output_type": "stream",
     "text": [
      "Batch size: 8 epoch: 1\n"
     ]
    },
    {
     "name": "stderr",
     "output_type": "stream",
     "text": [
      "100%|██████████| 7500/7500 [04:12<00:00, 29.73it/s]\n"
     ]
    },
    {
     "name": "stdout",
     "output_type": "stream",
     "text": [
      "Batch size: 16 epoch: 0\n"
     ]
    },
    {
     "name": "stderr",
     "output_type": "stream",
     "text": [
      "100%|██████████| 3750/3750 [01:49<00:00, 34.32it/s]\n"
     ]
    },
    {
     "name": "stdout",
     "output_type": "stream",
     "text": [
      "Batch size: 16 epoch: 1\n"
     ]
    },
    {
     "name": "stderr",
     "output_type": "stream",
     "text": [
      "100%|██████████| 3750/3750 [01:50<00:00, 34.08it/s]\n"
     ]
    },
    {
     "name": "stdout",
     "output_type": "stream",
     "text": [
      "Batch size: 32 epoch: 0\n"
     ]
    },
    {
     "name": "stderr",
     "output_type": "stream",
     "text": [
      "100%|██████████| 1875/1875 [01:07<00:00, 27.83it/s]\n"
     ]
    },
    {
     "name": "stdout",
     "output_type": "stream",
     "text": [
      "Batch size: 32 epoch: 1\n"
     ]
    },
    {
     "name": "stderr",
     "output_type": "stream",
     "text": [
      "100%|██████████| 1875/1875 [00:56<00:00, 32.96it/s]\n"
     ]
    },
    {
     "name": "stdout",
     "output_type": "stream",
     "text": [
      "Batch size: 64 epoch: 0\n"
     ]
    },
    {
     "name": "stderr",
     "output_type": "stream",
     "text": [
      "100%|██████████| 938/938 [00:29<00:00, 31.68it/s]\n"
     ]
    },
    {
     "name": "stdout",
     "output_type": "stream",
     "text": [
      "Batch size: 64 epoch: 1\n"
     ]
    },
    {
     "name": "stderr",
     "output_type": "stream",
     "text": [
      "100%|██████████| 938/938 [00:32<00:00, 29.30it/s]\n"
     ]
    },
    {
     "name": "stdout",
     "output_type": "stream",
     "text": [
      "Batch size: 128 epoch: 0\n"
     ]
    },
    {
     "name": "stderr",
     "output_type": "stream",
     "text": [
      "100%|██████████| 469/469 [00:18<00:00, 25.29it/s]\n"
     ]
    },
    {
     "name": "stdout",
     "output_type": "stream",
     "text": [
      "Batch size: 128 epoch: 1\n"
     ]
    },
    {
     "name": "stderr",
     "output_type": "stream",
     "text": [
      "100%|██████████| 469/469 [00:19<00:00, 23.68it/s]\n"
     ]
    },
    {
     "name": "stdout",
     "output_type": "stream",
     "text": [
      "Batch size: 256 epoch: 0\n"
     ]
    },
    {
     "name": "stderr",
     "output_type": "stream",
     "text": [
      "100%|██████████| 235/235 [00:14<00:00, 15.99it/s]\n"
     ]
    },
    {
     "name": "stdout",
     "output_type": "stream",
     "text": [
      "Batch size: 256 epoch: 1\n"
     ]
    },
    {
     "name": "stderr",
     "output_type": "stream",
     "text": [
      "100%|██████████| 235/235 [00:14<00:00, 16.36it/s]\n"
     ]
    }
   ],
   "source": [
    "from time import time\n",
    "from tqdm import tqdm\n",
    "epochs = 2\n",
    "loss_fn = torch.nn.MSELoss().to(device)\n",
    "\n",
    "batch_sizes = [8,16,32,64,128,256]\n",
    "\n",
    "train_loss_curves = []\n",
    "test_loss_curves = []\n",
    "training_times = []\n",
    "for bs in batch_sizes:\n",
    "    train_loader = torch.utils.data.DataLoader(train_data, batch_size=bs)\n",
    "    test_loader = torch.utils.data.DataLoader(test_data, batch_size=bs)\n",
    "    encoder = Encoder().to(device)\n",
    "    decoder = Decoder().to(device)\n",
    "    params_to_optimize = [\n",
    "        {'params': encoder.parameters()},\n",
    "        {'params': decoder.parameters()}\n",
    "    ]\n",
    "    opt = torch.optim.Adam(params_to_optimize, lr=1e-3)\n",
    "    test_losses = [test_model(encoder, decoder, loss_fn, test_loader)]\n",
    "    train_losses = []\n",
    "    log_interv = 100\n",
    "    encoder.train()\n",
    "    decoder.train()\n",
    "    start_t = time()\n",
    "    for epoch in range(epochs):\n",
    "        print(f\"Batch size: {bs} epoch: {epoch}\")\n",
    "        for i, (batch, _) in enumerate(tqdm(train_loader)):\n",
    "            batch = batch.to(device).reshape((-1, 1, 28*28))\n",
    "            lat_v = encoder(batch)\n",
    "            out = decoder(lat_v)\n",
    "            loss = loss_fn(out, batch)\n",
    "            train_losses.append(loss.cpu().detach().numpy())\n",
    "            opt.zero_grad()\n",
    "            loss.backward()\n",
    "            opt.step()\n",
    "            if i % log_interv == 0:\n",
    "                test_losses.append(test_model(encoder, decoder, loss_fn, test_loader))\n",
    "    training_times.append(time()-start_t)\n",
    "    test_losses.append(test_model(encoder, decoder, loss_fn, test_loader))\n",
    "    test_loss_curves.append(test_losses)\n"
   ]
  },
  {
   "cell_type": "code",
   "execution_count": 114,
   "id": "db62c84b-b49b-4f68-abe4-047bb5e7a31a",
   "metadata": {},
   "outputs": [
    {
     "data": {
      "image/png": "[encoded data removed]",
      "text/plain": [
       "<Figure size 500x300 with 2 Axes>"
      ]
     },
     "metadata": {},
     "output_type": "display_data"
    }
   ],
   "source": [
    "import matplotlib.pyplot as plt\n",
    "\n",
    "r_mse        = [mse[-1] for mse in test_loss_curves]\n",
    "fig, ax1 = plt.subplots(figsize=(5, 3))\n",
    "\n",
    "# Plotting the MSE loss on the primary y-axis\n",
    "color = 'tab:blue'\n",
    "ax1.set_xlabel('Batch Size')\n",
    "ax1.set_ylabel('MSE Loss', color=color)\n",
    "ax1.plot(batch_sizes, r_mse, marker='o', linestyle='-', color=color)\n",
    "ax1.tick_params(axis='y', labelcolor=color)\n",
    "ax1.set_xscale('log')\n",
    "ax1.set_xticks(batch_sizes)\n",
    "ax1.set_xticklabels(batch_sizes)\n",
    "ax1.grid(True)\n",
    "\n",
    "# Creating the secondary y-axis for training time\n",
    "ax2 = ax1.twinx()\n",
    "color = 'tab:red'\n",
    "ax2.set_ylabel('Training Time (seconds)', color=color)\n",
    "ax2.plot(batch_sizes, training_times, marker='o', linestyle='-', color=color)\n",
    "ax2.tick_params(axis='y', labelcolor=color)\n",
    "\n",
    "# Adding a title and showing the plot\n",
    "plt.title('MSE Loss and Training Time vs. Batch Size')\n",
    "fig.tight_layout()  # Adjust layout to make room for the dual y-axis\n",
    "plt.show()"
   ]
  }
 ],
 "metadata": {
  "kernelspec": {
   "display_name": "Python Autoencoders venv",
   "language": "python",
   "name": "venv"
  },
  "language_info": {
   "codemirror_mode": {
    "name": "ipython",
    "version": 3
   },
   "file_extension": ".py",
   "mimetype": "text/x-python",
   "name": "python",
   "nbconvert_exporter": "python",
   "pygments_lexer": "ipython3",
   "version": "3.11.3"
  }
 },
 "nbformat": 4,
 "nbformat_minor": 5
}
